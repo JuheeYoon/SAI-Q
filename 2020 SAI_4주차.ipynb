{
  "nbformat": 4,
  "nbformat_minor": 0,
  "metadata": {
    "colab": {
      "provenance": []
    },
    "kernelspec": {
      "name": "python3",
      "display_name": "Python 3"
    },
    "language_info": {
      "name": "python"
    }
  },
  "cells": [
    {
      "cell_type": "markdown",
      "source": [
        "# **# 3.**\n",
        "\n",
        "생선의 종을 분류하는 모델의 C값이 적절한 값인지, 기존의 코드에서 GridSearchCV를 추가하여 C값이 변화하였는지 확인해보기."
      ],
      "metadata": {
        "id": "FFYZD1YVDkAS"
      }
    },
    {
      "cell_type": "code",
      "execution_count": null,
      "metadata": {
        "colab": {
          "base_uri": "https://localhost:8080/"
        },
        "id": "BRv-sQC7DgFM",
        "outputId": "15b8a0b0-115b-4cf9-a130-3ce282fe452f"
      },
      "outputs": [
        {
          "output_type": "stream",
          "name": "stdout",
          "text": [
            "GridSearchCV 적용 전\n",
            "train score : 0.9327731092436975\n",
            "test score : 0.925\n",
            "C = 20\n"
          ]
        }
      ],
      "source": [
        "import pandas as pd\n",
        "\n",
        "fish = pd.read_csv('https://bit.ly/fish_csv_data')\n",
        "\n",
        "fish_input = fish[['Weight','Length','Diagonal','Height','Width']].to_numpy()\n",
        "fish_target = fish['Species'].to_numpy()\n",
        "\n",
        "#data split\n",
        "from sklearn.model_selection import train_test_split\n",
        "\n",
        "train_input, test_input, train_target, test_target = train_test_split(\n",
        "    fish_input, fish_target, random_state=42)\n",
        "\n",
        "#preprocessing\n",
        "from sklearn.preprocessing import StandardScaler\n",
        "\n",
        "ss = StandardScaler()\n",
        "ss.fit(train_input)\n",
        "train_scaled = ss.transform(train_input)\n",
        "test_scaled = ss.transform(test_input)\n",
        "\n",
        "#LR\n",
        "from sklearn.linear_model import LogisticRegression\n",
        "\n",
        "lr = LogisticRegression(C=20, max_iter=1000)\n",
        "lr.fit(train_scaled, train_target)\n",
        "\n",
        "print('GridSearchCV 적용 전')\n",
        "print('train score :',lr.score(train_scaled, train_target))\n",
        "print('test score :',lr.score(test_scaled, test_target))\n",
        "print('C = 20')"
      ]
    },
    {
      "cell_type": "code",
      "source": [
        "#GridSearchCV\n",
        "from sklearn.model_selection import GridSearchCV\n",
        "params = {'C' : [i for i in range(1, 30)]}\n",
        "gs = GridSearchCV(LogisticRegression(max_iter=1000), params, n_jobs=-1)\n",
        "gs.fit(train_scaled, train_target)\n",
        "dt = gs.best_estimator_\n",
        "\n",
        "print('GridSearchCV 적용 후')\n",
        "print('train score :',dt.score(train_scaled,train_target))\n",
        "print('test score :',dt.score(test_scaled,test_target))\n",
        "print('C =',gs.best_params_['C'])"
      ],
      "metadata": {
        "colab": {
          "base_uri": "https://localhost:8080/"
        },
        "id": "8s5CJO54MtUh",
        "outputId": "87e96117-f80c-43d8-ac86-bde34a6c2919"
      },
      "execution_count": null,
      "outputs": [
        {
          "output_type": "stream",
          "name": "stderr",
          "text": [
            "/usr/local/lib/python3.7/dist-packages/sklearn/model_selection/_split.py:680: UserWarning: The least populated class in y has only 3 members, which is less than n_splits=5.\n",
            "  UserWarning,\n"
          ]
        },
        {
          "output_type": "stream",
          "name": "stdout",
          "text": [
            "GridSearchCV 적용 후\n",
            "train score : 0.9159663865546218\n",
            "test score : 0.925\n",
            "C = 11\n"
          ]
        }
      ]
    },
    {
      "cell_type": "markdown",
      "source": [
        "# **# 5.**\n",
        "\n",
        "행성의 측정 방법\n",
        "(Grid Search 사용 X)"
      ],
      "metadata": {
        "id": "sec-WlZ0IxbA"
      }
    },
    {
      "cell_type": "code",
      "source": [
        "# 데이터 불러오기\n",
        "from sklearn import datasets\n",
        "import pandas as pd\n",
        "import seaborn as sns\n",
        "planets=sns.load_dataset('planets')\n",
        "print(planets.info())"
      ],
      "metadata": {
        "colab": {
          "base_uri": "https://localhost:8080/"
        },
        "id": "AzA6X1X8JEG3",
        "outputId": "f28b219b-9cfc-4dec-e272-fb2e494abf39"
      },
      "execution_count": null,
      "outputs": [
        {
          "output_type": "stream",
          "name": "stdout",
          "text": [
            "<class 'pandas.core.frame.DataFrame'>\n",
            "RangeIndex: 1035 entries, 0 to 1034\n",
            "Data columns (total 6 columns):\n",
            " #   Column          Non-Null Count  Dtype  \n",
            "---  ------          --------------  -----  \n",
            " 0   method          1035 non-null   object \n",
            " 1   number          1035 non-null   int64  \n",
            " 2   orbital_period  992 non-null    float64\n",
            " 3   mass            513 non-null    float64\n",
            " 4   distance        808 non-null    float64\n",
            " 5   year            1035 non-null   int64  \n",
            "dtypes: float64(3), int64(2), object(1)\n",
            "memory usage: 48.6+ KB\n",
            "None\n"
          ]
        }
      ]
    },
    {
      "cell_type": "code",
      "source": [
        "# 결측치 채우기############악!\n",
        "print(planets.groupby('method').mean())\n",
        "\n",
        "planets[\"orbital_period\"] = planets.groupby(\"method\").transform(lambda x: x.fillna(x.mean()))\n",
        "planets[\"distance\"] = planets.groupby(\"method\").transform(lambda x: x.fillna(x.mean()))\n",
        "\n",
        "print(planets.info())"
      ],
      "metadata": {
        "colab": {
          "base_uri": "https://localhost:8080/",
          "height": 902
        },
        "id": "ZlIkt-TuN3ig",
        "outputId": "2d86d34f-6fd7-48f8-a634-2526b21de763"
      },
      "execution_count": null,
      "outputs": [
        {
          "output_type": "stream",
          "name": "stdout",
          "text": [
            "                                 number  orbital_period      mass  \\\n",
            "method                                                              \n",
            "Astrometry                     1.000000      631.180000       NaN   \n",
            "Eclipse Timing Variations      1.666667     4751.644444  5.125000   \n",
            "Imaging                        1.315789   118247.737500       NaN   \n",
            "Microlensing                   1.173913     3153.571429       NaN   \n",
            "Orbital Brightness Modulation  1.666667        0.709307       NaN   \n",
            "Pulsar Timing                  2.200000     7343.021201       NaN   \n",
            "Pulsation Timing Variations    1.000000     1170.000000       NaN   \n",
            "Radial Velocity                1.721519      823.354680  2.630699   \n",
            "Transit                        1.954660       21.102073  1.470000   \n",
            "Transit Timing Variations      2.250000       79.783500       NaN   \n",
            "\n",
            "                                  distance         year  \n",
            "method                                                   \n",
            "Astrometry                       17.875000  2011.500000  \n",
            "Eclipse Timing Variations       315.360000  2010.000000  \n",
            "Imaging                          67.715937  2009.131579  \n",
            "Microlensing                   4144.000000  2009.782609  \n",
            "Orbital Brightness Modulation  1180.000000  2011.666667  \n",
            "Pulsar Timing                  1200.000000  1998.400000  \n",
            "Pulsation Timing Variations            NaN  2007.000000  \n",
            "Radial Velocity                  51.600208  2007.518987  \n",
            "Transit                         599.298080  2011.236776  \n",
            "Transit Timing Variations      1104.333333  2012.500000  \n"
          ]
        },
        {
          "output_type": "error",
          "ename": "ValueError",
          "evalue": "ignored",
          "traceback": [
            "\u001b[0;31m---------------------------------------------------------------------------\u001b[0m",
            "\u001b[0;31mValueError\u001b[0m                                Traceback (most recent call last)",
            "\u001b[0;32m<ipython-input-25-50f7f384d6c0>\u001b[0m in \u001b[0;36m<module>\u001b[0;34m()\u001b[0m\n\u001b[1;32m      2\u001b[0m \u001b[0mprint\u001b[0m\u001b[0;34m(\u001b[0m\u001b[0mplanets\u001b[0m\u001b[0;34m.\u001b[0m\u001b[0mgroupby\u001b[0m\u001b[0;34m(\u001b[0m\u001b[0;34m'method'\u001b[0m\u001b[0;34m)\u001b[0m\u001b[0;34m.\u001b[0m\u001b[0mmean\u001b[0m\u001b[0;34m(\u001b[0m\u001b[0;34m)\u001b[0m\u001b[0;34m)\u001b[0m\u001b[0;34m\u001b[0m\u001b[0;34m\u001b[0m\u001b[0m\n\u001b[1;32m      3\u001b[0m \u001b[0;34m\u001b[0m\u001b[0m\n\u001b[0;32m----> 4\u001b[0;31m \u001b[0mplanets\u001b[0m\u001b[0;34m[\u001b[0m\u001b[0;34m\"orbital_period\"\u001b[0m\u001b[0;34m]\u001b[0m \u001b[0;34m=\u001b[0m \u001b[0mplanets\u001b[0m\u001b[0;34m.\u001b[0m\u001b[0mgroupby\u001b[0m\u001b[0;34m(\u001b[0m\u001b[0;34m\"method\"\u001b[0m\u001b[0;34m)\u001b[0m\u001b[0;34m.\u001b[0m\u001b[0mtransform\u001b[0m\u001b[0;34m(\u001b[0m\u001b[0;32mlambda\u001b[0m \u001b[0mx\u001b[0m\u001b[0;34m:\u001b[0m \u001b[0mx\u001b[0m\u001b[0;34m.\u001b[0m\u001b[0mfillna\u001b[0m\u001b[0;34m(\u001b[0m\u001b[0mx\u001b[0m\u001b[0;34m.\u001b[0m\u001b[0mmean\u001b[0m\u001b[0;34m(\u001b[0m\u001b[0;34m)\u001b[0m\u001b[0;34m)\u001b[0m\u001b[0;34m)\u001b[0m\u001b[0;34m\u001b[0m\u001b[0;34m\u001b[0m\u001b[0m\n\u001b[0m\u001b[1;32m      5\u001b[0m \u001b[0mplanets\u001b[0m\u001b[0;34m[\u001b[0m\u001b[0;34m\"distance\"\u001b[0m\u001b[0;34m]\u001b[0m \u001b[0;34m=\u001b[0m \u001b[0mplanets\u001b[0m\u001b[0;34m.\u001b[0m\u001b[0mgroupby\u001b[0m\u001b[0;34m(\u001b[0m\u001b[0;34m\"method\"\u001b[0m\u001b[0;34m)\u001b[0m\u001b[0;34m.\u001b[0m\u001b[0mtransform\u001b[0m\u001b[0;34m(\u001b[0m\u001b[0;32mlambda\u001b[0m \u001b[0mx\u001b[0m\u001b[0;34m:\u001b[0m \u001b[0mx\u001b[0m\u001b[0;34m.\u001b[0m\u001b[0mfillna\u001b[0m\u001b[0;34m(\u001b[0m\u001b[0mx\u001b[0m\u001b[0;34m.\u001b[0m\u001b[0mmean\u001b[0m\u001b[0;34m(\u001b[0m\u001b[0;34m)\u001b[0m\u001b[0;34m)\u001b[0m\u001b[0;34m)\u001b[0m\u001b[0;34m\u001b[0m\u001b[0;34m\u001b[0m\u001b[0m\n\u001b[1;32m      6\u001b[0m \u001b[0;34m\u001b[0m\u001b[0m\n",
            "\u001b[0;32m/usr/local/lib/python3.7/dist-packages/pandas/core/frame.py\u001b[0m in \u001b[0;36m__setitem__\u001b[0;34m(self, key, value)\u001b[0m\n\u001b[1;32m   3600\u001b[0m             \u001b[0mself\u001b[0m\u001b[0;34m.\u001b[0m\u001b[0m_setitem_array\u001b[0m\u001b[0;34m(\u001b[0m\u001b[0mkey\u001b[0m\u001b[0;34m,\u001b[0m \u001b[0mvalue\u001b[0m\u001b[0;34m)\u001b[0m\u001b[0;34m\u001b[0m\u001b[0;34m\u001b[0m\u001b[0m\n\u001b[1;32m   3601\u001b[0m         \u001b[0;32melif\u001b[0m \u001b[0misinstance\u001b[0m\u001b[0;34m(\u001b[0m\u001b[0mvalue\u001b[0m\u001b[0;34m,\u001b[0m \u001b[0mDataFrame\u001b[0m\u001b[0;34m)\u001b[0m\u001b[0;34m:\u001b[0m\u001b[0;34m\u001b[0m\u001b[0;34m\u001b[0m\u001b[0m\n\u001b[0;32m-> 3602\u001b[0;31m             \u001b[0mself\u001b[0m\u001b[0;34m.\u001b[0m\u001b[0m_set_item_frame_value\u001b[0m\u001b[0;34m(\u001b[0m\u001b[0mkey\u001b[0m\u001b[0;34m,\u001b[0m \u001b[0mvalue\u001b[0m\u001b[0;34m)\u001b[0m\u001b[0;34m\u001b[0m\u001b[0;34m\u001b[0m\u001b[0m\n\u001b[0m\u001b[1;32m   3603\u001b[0m         elif (\n\u001b[1;32m   3604\u001b[0m             \u001b[0mis_list_like\u001b[0m\u001b[0;34m(\u001b[0m\u001b[0mvalue\u001b[0m\u001b[0;34m)\u001b[0m\u001b[0;34m\u001b[0m\u001b[0;34m\u001b[0m\u001b[0m\n",
            "\u001b[0;32m/usr/local/lib/python3.7/dist-packages/pandas/core/frame.py\u001b[0m in \u001b[0;36m_set_item_frame_value\u001b[0;34m(self, key, value)\u001b[0m\n\u001b[1;32m   3727\u001b[0m             \u001b[0mlen_cols\u001b[0m \u001b[0;34m=\u001b[0m \u001b[0;36m1\u001b[0m \u001b[0;32mif\u001b[0m \u001b[0mis_scalar\u001b[0m\u001b[0;34m(\u001b[0m\u001b[0mcols\u001b[0m\u001b[0;34m)\u001b[0m \u001b[0;32melse\u001b[0m \u001b[0mlen\u001b[0m\u001b[0;34m(\u001b[0m\u001b[0mcols\u001b[0m\u001b[0;34m)\u001b[0m\u001b[0;34m\u001b[0m\u001b[0;34m\u001b[0m\u001b[0m\n\u001b[1;32m   3728\u001b[0m             \u001b[0;32mif\u001b[0m \u001b[0mlen_cols\u001b[0m \u001b[0;34m!=\u001b[0m \u001b[0mlen\u001b[0m\u001b[0;34m(\u001b[0m\u001b[0mvalue\u001b[0m\u001b[0;34m.\u001b[0m\u001b[0mcolumns\u001b[0m\u001b[0;34m)\u001b[0m\u001b[0;34m:\u001b[0m\u001b[0;34m\u001b[0m\u001b[0;34m\u001b[0m\u001b[0m\n\u001b[0;32m-> 3729\u001b[0;31m                 \u001b[0;32mraise\u001b[0m \u001b[0mValueError\u001b[0m\u001b[0;34m(\u001b[0m\u001b[0;34m\"Columns must be same length as key\"\u001b[0m\u001b[0;34m)\u001b[0m\u001b[0;34m\u001b[0m\u001b[0;34m\u001b[0m\u001b[0m\n\u001b[0m\u001b[1;32m   3730\u001b[0m \u001b[0;34m\u001b[0m\u001b[0m\n\u001b[1;32m   3731\u001b[0m             \u001b[0;31m# align right-hand-side columns if self.columns\u001b[0m\u001b[0;34m\u001b[0m\u001b[0;34m\u001b[0m\u001b[0;34m\u001b[0m\u001b[0m\n",
            "\u001b[0;31mValueError\u001b[0m: Columns must be same length as key"
          ]
        }
      ]
    },
    {
      "cell_type": "code",
      "source": [
        "# 데이터프레임의 특성 나누기\n",
        "data = planets[['number','orbital_period','distance','year']].to_numpy()\n",
        "target = planets['method'].to_numpy()\n",
        "\n",
        "# 훈련 세트와 테스트 세트로 나누기\n",
        "from sklearn.model_selection import train_test_split\n",
        "train_input, test_input, train_target, test_target = train_test_split(data,target,test_size=0.2,random_state=42)\n",
        "\n",
        "# 표준화 전처리를 하지 않은 결정 트리 모델\n",
        "from sklearn.tree import DecisionTreeClassifier\n",
        "dt = DecisionTreeClassifier(random_state=42)\n",
        "dt.fit(train_input,train_target)\n",
        "print(dt.score(train_input,train_target))\n",
        "print(dt.score(test_input,test_target))\n",
        "\n",
        "# 트리 그래프 그리기\n",
        "import matplotlib.pyplot as plt\n",
        "from sklearn.tree import plot_tree\n",
        "plt.figure(figsize=(20,15))\n",
        "plot_tree(dt,filled=True,feature_names=['number','orbital_period','distance','year'])\n",
        "plt.show()"
      ],
      "metadata": {
        "id": "QfP6noJKN_vk"
      },
      "execution_count": null,
      "outputs": []
    }
  ]
}